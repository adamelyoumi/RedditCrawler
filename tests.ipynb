{
 "cells": [
  {
   "cell_type": "code",
   "execution_count": 13,
   "metadata": {},
   "outputs": [],
   "source": [
    "import praw\n",
    "import os\n",
    "import threading\n",
    "import time"
   ]
  },
  {
   "cell_type": "code",
   "execution_count": 14,
   "metadata": {},
   "outputs": [],
   "source": [
    "id=\"LLYeM_fsC2eaOj8OH7Rbnw\"\n",
    "secret=\"kstHYpJHdrebwAZERtKTd4Ueh0Y82g\"\n",
    "username=\"No-Caterpillar7445\"\n",
    "password=\"abcdefgh\"\n",
    "\n",
    "target=\"Foreign-Success6618\""
   ]
  },
  {
   "cell_type": "code",
   "execution_count": 15,
   "metadata": {},
   "outputs": [],
   "source": [
    "reddit = praw.Reddit(\n",
    "    client_id=id,\n",
    "    client_secret=secret,\n",
    "    user_agent=\"test\",\n",
    "    username=username,\n",
    "    password=password\n",
    ")\n",
    "\n",
    "def vote_on_threads(user, already_done):\n",
    "    for sub in user.submissions.new(limit=None):\n",
    "        if sub.id not in already_done:\n",
    "            sub.upvote()\n",
    "            already_done.add(sub.id)\n",
    "            time.sleep(1)\n",
    "            print(f\"Upvoted post {sub.permalink} from {user}\")\n",
    "\n",
    "def run_bot(target=target, run_continuously = False):\n",
    "    already_done = set()\n",
    "    user = reddit.redditor(target)\n",
    "    while True:\n",
    "        print('Beginning to upvote. The permalink to the comment will be printed when a comment is upvoted.')\n",
    "        t = threading.Thread(target=vote_on_threads, args=(user, already_done))\n",
    "        t.start()\n",
    "\n",
    "        if run_continuously:\n",
    "            t.join()\n",
    "        else:\n",
    "            break"
   ]
  },
  {
   "cell_type": "code",
   "execution_count": 16,
   "metadata": {},
   "outputs": [],
   "source": [
    "r = reddit.redditor(target)"
   ]
  },
  {
   "cell_type": "code",
   "execution_count": 28,
   "metadata": {},
   "outputs": [],
   "source": [
    "subs = list(r.submissions.new())"
   ]
  },
  {
   "cell_type": "code",
   "execution_count": 29,
   "metadata": {},
   "outputs": [
    {
     "data": {
      "text/plain": [
       "[Submission(id='155qrc1'), Submission(id='155o7rp')]"
      ]
     },
     "execution_count": 29,
     "metadata": {},
     "output_type": "execute_result"
    }
   ],
   "source": [
    "subs"
   ]
  },
  {
   "cell_type": "code",
   "execution_count": 39,
   "metadata": {},
   "outputs": [
    {
     "data": {
      "text/plain": [
       "'/r/conseiljuridique/comments/155qrc1/suisje_obligée_de_continuer_à_payer/'"
      ]
     },
     "execution_count": 39,
     "metadata": {},
     "output_type": "execute_result"
    }
   ],
   "source": [
    "subs[0].permalink"
   ]
  },
  {
   "cell_type": "code",
   "execution_count": null,
   "metadata": {},
   "outputs": [],
   "source": [
    "run_bot()"
   ]
  }
 ],
 "metadata": {
  "kernelspec": {
   "display_name": "bot",
   "language": "python",
   "name": "python3"
  },
  "language_info": {
   "codemirror_mode": {
    "name": "ipython",
    "version": 3
   },
   "file_extension": ".py",
   "mimetype": "text/x-python",
   "name": "python",
   "nbconvert_exporter": "python",
   "pygments_lexer": "ipython3",
   "version": "3.11.4"
  },
  "orig_nbformat": 4
 },
 "nbformat": 4,
 "nbformat_minor": 2
}
